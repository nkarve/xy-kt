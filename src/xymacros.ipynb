{
    "cells": [
     {
      "cell_type": "code",
      "execution_count": 1,
      "metadata": {},
      "outputs": [],
      "source": [
       "from xymodel import update_metropolis, vorticity, magnetization\n",
       "from joblib import Parallel, delayed\n",
       "import numpy as np\n",
       "import matplotlib.pyplot as plt"
      ]
     },
     {
      "cell_type": "code",
      "execution_count": 2,
      "metadata": {},
      "outputs": [],
      "source": [
       "L = 30\n",
       "trials = 15\n",
       "temps = np.linspace(0.4, 1.4, trials)\n",
       "nupdates = int(10e5)\n",
       "nmeasures = int(10e4)"
      ]
     },
     {
      "cell_type": "code",
      "execution_count": 3,
      "metadata": {},
      "outputs": [],
      "source": [
       "M = np.zeros_like(temps) # Magnetization\n",
       "V = np.zeros_like(temps) # Vortex density"
      ]
     },
     {
      "cell_type": "code",
      "execution_count": 4,
      "metadata": {},
      "outputs": [
       {
        "name": "stdout",
        "output_type": "stream",
        "text": [
         "Running phase 1\n",
         "Running phase 2\n",
         "Running phase 3\n",
         "Running phase 4\n",
         "Running phase 5\n",
         "Running phase 6\n",
         "Running phase 7\n",
         "Running phase 8\n",
         "Running phase 9\n",
         "Running phase 10\n",
         "Running phase 11\n",
         "Running phase 12\n",
         "Running phase 13\n",
         "Running phase 14\n",
         "Running phase 15\n"
        ]
       }
      ],
      "source": [
       "def count_vortices(grid):\n",
       "    return np.count_nonzero(vorticity(grid) < .3)\n",
       "\n",
       "def get_macros(i, temp):\n",
       "    print(f'Running phase {(i+1)}\\n', end='')\n",
       "\n",
       "    grid = 2 * np.pi * np.random.rand(L, L).astype(np.float32)\n",
       "    m = np.zeros(nmeasures)\n",
       "    v = np.zeros(nmeasures)\n",
       "\n",
       "    for j in range(nupdates):\n",
       "        grid = update_metropolis(grid, temp)\n",
       "\n",
       "        k = j - (nupdates - nmeasures)\n",
       "        if k >= 0:\n",
       "            m[k] = magnetization(grid)\n",
       "            v[k] = count_vortices(grid)\n",
       "\n",
       "    m /= L * L\n",
       "    v /= L * L\n",
       "\n",
       "    M[i] = np.mean(m)\n",
       "    V[i] = np.mean(v)\n",
       "\n",
       "Parallel(n_jobs=5, prefer='threads')(delayed(get_macros)(i, temp) for i, temp in enumerate(temps));"
      ]
     },
     {
      "cell_type": "code",
      "execution_count": 5,
      "metadata": {},
      "outputs": [
       {
        "data": {
         "image/png": "[encoded data removed]",
         "text/plain": [
          "<Figure size 432x288 with 1 Axes>"
         ]
        },
        "metadata": {
         "needs_background": "light"
        },
        "output_type": "display_data"
       }
      ],
      "source": [
       "plt.figure()\n",
       "plt.xlabel('Temperature')\n",
       "plt.ylabel('Magnetization')\n",
       "plt.scatter(temps, M)\n",
       "plt.axvline(x=1, color='black', ls='--');"
      ]
     },
     {
      "cell_type": "code",
      "execution_count": 6,
      "metadata": {},
      "outputs": [
       {
        "data": {
         "image/png": "[encoded data removed]",
         "text/plain": [
          "<Figure size 432x288 with 1 Axes>"
         ]
        },
        "metadata": {
         "needs_background": "light"
        },
        "output_type": "display_data"
       }
      ],
      "source": [
       "plt.figure()\n",
       "plt.xlabel('Temperature')\n",
       "plt.ylabel('Vortex Density')\n",
       "plt.scatter(temps, V)\n",
       "plt.axvline(x=1, color='black', ls='--');"
      ]
     }
    ],
    "metadata": {
     "kernelspec": {
      "display_name": "Python 3.8.6 64-bit",
      "language": "python",
      "name": "python3"
     },
     "language_info": {
      "codemirror_mode": {
       "name": "ipython",
       "version": 3
      },
      "file_extension": ".py",
      "mimetype": "text/x-python",
      "name": "python",
      "nbconvert_exporter": "python",
      "pygments_lexer": "ipython3",
      "version": "3.8.6"
     },
     "orig_nbformat": 4,
     "vscode": {
      "interpreter": {
       "hash": "48631c667588817134f19276693acc64711a991a58f5a19b6cf4cc6fa5a36339"
      }
     }
    },
    "nbformat": 4,
    "nbformat_minor": 2
   }
   
